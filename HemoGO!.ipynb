{
 "cells": [
  {
   "cell_type": "code",
   "execution_count": 1,
   "metadata": {},
   "outputs": [],
   "source": [
    "# Imports\n",
    "import pandas as pd\n",
    "from datetime import datetime\n",
    "from datetime import timedelta"
   ]
  },
  {
   "cell_type": "code",
   "execution_count": 2,
   "metadata": {},
   "outputs": [],
   "source": [
    "# Data\n",
    "\n",
    "#Parameters\n",
    "BloodTypes = {\"O+\", \"O-\", \"A+\", \"A-\", \"B+\", \"B-\", \"AB+\", \"AB-\"}\n",
    "Gender = {\"Male\", \"Female\", \"N/A\"}\n",
    "BloodComponents = {\"RBC\", \"Platelets\", \"Plasma\"}\n",
    "\n",
    "#Eligibility\n",
    "df = pd.read_csv(\"BloodDonationTypeWaitingPeriodByGender.csv\")\n",
    "LastBloodDonationRestrictions = df.set_index(\"Donation Type\", drop = True)\n",
    "HighRiskTravelCountries = pd.read_csv(\"HighRiskTravelCountries.csv\")\n",
    "df = pd.read_csv(\"ProcedureWaitingPeriod.csv\")\n",
    "ProceduralRestrictions = df.set_index(\"Procedure\", drop = True)\n",
    "noRiskTravelWaitPeriod = 21\n",
    "highRiskTravelWaitPeriod = 365\n",
    "bloodProcessingTime = 1\n",
    "\n",
    "#Daily hospital demand \n",
    "df = pd.read_csv(\"SeasonalDemandRatesByBloodType.csv\")\n",
    "SeasonalDailyDemand = df.set_index(\"Season\", drop = True)\n",
    "\n",
    "#From database\n",
    "donors = list()\n",
    "appointments = list()"
   ]
  },
  {
   "cell_type": "code",
   "execution_count": 3,
   "metadata": {},
   "outputs": [],
   "source": [
    "# This class represents a user of the application\n",
    "class Donor:\n",
    "    def __init__(self, donorId, gender, age, bloodType):\n",
    "        self.donorId = donorId\n",
    "        self.gender = gender\n",
    "        self.age = age\n",
    "        self.bloodType = bloodType\n",
    "        self.appointments = list()"
   ]
  },
  {
   "cell_type": "code",
   "execution_count": 4,
   "metadata": {},
   "outputs": [],
   "source": [
    "# This class represents a user's appointment \n",
    "class Appointment:\n",
    "    def __init__(self, donor, bloodCompToDonate):\n",
    "        self.donor = donor\n",
    "        self.bloodCompToDonate = bloodCompToDonate\n",
    "    \n",
    "    def setAppointmentRestrictions(self, restrictions):\n",
    "        self.restrictions = restrictions\n",
    "        \n",
    "    def setEligibleTime(self, eligibleTime):\n",
    "        self.eligibleTime = eligibleTime\n",
    "        \n",
    "    def setDate(self, date):\n",
    "        self.date = date\n",
    "        \n",
    "    def setWasSuccessful(self, wasSucessful):\n",
    "        self.wasSuccessful = wasSuccessful\n",
    "    \n",
    "    def setIsCompleted(self, isCompleted):\n",
    "        self.isCompleted = isCompleted"
   ]
  },
  {
   "cell_type": "code",
   "execution_count": 5,
   "metadata": {},
   "outputs": [],
   "source": [
    "# Retrieving user input from UI (TODO - Henry)\n",
    "def getBloodCompToDonate(userId):\n",
    "    return \"O-\"\n",
    "\n",
    "def getAppointmentRestrictions(userId):\n",
    "    return {} # Dictionary mapping eligibility criteria -> date"
   ]
  },
  {
   "cell_type": "code",
   "execution_count": 6,
   "metadata": {},
   "outputs": [],
   "source": [
    "import random\n",
    "def getProbabilityOfSuccessfulDonation(donor):\n",
    "    success = 0\n",
    "    failed = 0\n",
    "    for appointment in donor.appointments:\n",
    "        if appointment.IsCompleted:\n",
    "            if appointment.WasSuccessful:\n",
    "                success += 1\n",
    "            else:\n",
    "                failed += 1\n",
    "            \n",
    "    if success == 0 and failed == 0: # default (research based)\n",
    "        return 0.925\n",
    "    \n",
    "    else:\n",
    "        (success)/(success + failed)\n",
    "\n",
    "def getProcessingDays():\n",
    "    rand = random.uniform(0,1)\n",
    "    if rand <= 0.5:\n",
    "        return 1\n",
    "    else:\n",
    "        return 0   "
   ]
  },
  {
   "cell_type": "code",
   "execution_count": 7,
   "metadata": {},
   "outputs": [],
   "source": [
    "# For every user trying to book an appointment (our added feature)\n",
    "donor = Donor(905, \"Female\", 24, \"O+\") # Represents logged in donor\n",
    "\n",
    "# Creating/setting properties of new appointment\n",
    "newAppointment = Appointment(donor, getBloodCompToDonate(donor.donorId))\n",
    "restrictions = getAppointmentRestrictions(donor.donorId)\n",
    "newAppointment.setAppointmentRestrictions(restrictions)\n",
    "\n",
    "# Set this appointment's eligible start date as max of all time-based eligibility violations\n",
    "eligibleDate = datetime.now()\n",
    "for restriction in newAppointment.restrictions.keys():\n",
    "    if restriction in str(LastBloodDonationRestrictions[\"Donation Type\"]):\n",
    "        donorGender = donor.Gender\n",
    "        if donor.Gender is \"N/A\":\n",
    "            donorGender = \"Female\" # if non-binary, set as female since longer waiting time\n",
    "        eligibleDate = max(eligibleDate, newAppointment[restriction] + timedelta(days=int(LastBloodDonationRestrictions.loc[restriction, donorGender])))\n",
    "    elif restriction in str(ProceduralRestrictions[\"Procedure\"]):\n",
    "        eligibleDate = max(eligibleDate, newAppointment[restriction] + int(ProceduralRestrictions.loc[restriction]))\n",
    "    elif restriction in str(HighRiskTravelCountries['Country']):\n",
    "        eligibleDate = max(eligibleDate, newAppointment[restriction] + timedelta(days=noRiskTravelWaitPeriod))\n",
    "    else:\n",
    "        eligibleDate = max(eligibleDate, newAppointment[restriction] + timedelta(days=noRiskTravelWaitPeriod))  \n",
    "newAppointment.setEligibleTime(eligibleDate)\n",
    "\n",
    "donor.appointments.append(newAppointment)\n",
    "appointments.append(newAppointment)"
   ]
  },
  {
   "cell_type": "code",
   "execution_count": null,
   "metadata": {},
   "outputs": [],
   "source": [
    "# Greedy heuristic of reccommending dates\n",
    "import numpy as np\n",
    "import operator\n",
    "dateOptions = list()\n",
    "\n",
    "# Determine how many donations we will theoretically have\n",
    "dateDeviations = {}\n",
    "for i in range(31):\n",
    "    date = newAppointment.eligibleTime + timedelta(days = i)\n",
    "    season = \"Winter\"\n",
    "    if date.month >= 3 and date.month < 9:\n",
    "        season = \"Summer\"\n",
    "    bloodCompType = newAppointment.bloodCompToDonate\n",
    "    if newAppointment.bloodCompToDonate == \"Whole Blood\":\n",
    "        bloodCompType = newAppointment.donor.bloodType\n",
    "    dateDeviations.update({date : SeasonalDailyDemand.loc[season,bloodCompType]})  \n",
    "    for appointment in appointments:\n",
    "        if len(bloodCompType) > 3 and appointment.bloodCompToDonate != newAppointment.bloodCompToDonate:\n",
    "            continue\n",
    "        elif len(bloodCompType) <= 3 and appointment.donor.bloodType != newAppointment.donor.bloodType:\n",
    "            continue\n",
    "        if appointment.date + timedelta(days = getProcessingDays()) == date:\n",
    "            dateDeviations[date] -= np.random.binomial(1, getProbabilityOfSuccessfulDonation(appointment.donor))\n",
    "\n",
    "sortedDateOptions = sorted(dateDeviations.items(), key=operator.itemgetter(1), reverse = True)"
   ]
  }
 ],
 "metadata": {
  "kernelspec": {
   "display_name": "Python 3",
   "language": "python",
   "name": "python3"
  },
  "language_info": {
   "codemirror_mode": {
    "name": "ipython",
    "version": 3
   },
   "file_extension": ".py",
   "mimetype": "text/x-python",
   "name": "python",
   "nbconvert_exporter": "python",
   "pygments_lexer": "ipython3",
   "version": "3.5.5"
  }
 },
 "nbformat": 4,
 "nbformat_minor": 2
}
